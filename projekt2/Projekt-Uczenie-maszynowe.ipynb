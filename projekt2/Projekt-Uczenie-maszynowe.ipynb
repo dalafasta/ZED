{
 "cells": [
  {
   "cell_type": "markdown",
   "metadata": {},
   "source": [
    "##Projekt z uczenia maszynowego\n",
    "#Adam Gontarek 106619"
   ]
  },
  {
   "cell_type": "markdown",
   "metadata": {},
   "source": [
    "Zależności"
   ]
  },
  {
   "cell_type": "code",
   "execution_count": 163,
   "metadata": {
    "collapsed": true
   },
   "outputs": [],
   "source": [
    "import pandas as pd\n",
    "from sklearn.cross_validation import train_test_split\n",
    "from sklearn.ensemble import RandomForestClassifier\n",
    "from sklearn.grid_search import GridSearchCV, RandomizedSearchCV\n",
    "from sklearn.metrics import classification_report\n",
    "from sklearn.svm import SVC\n",
    "from sklearn.metrics import recall_score\n",
    "from sklearn.externals import joblib\n",
    "from sklearn.cross_validation import cross_val_predict\n",
    "from scipy.stats import randint as sp_randint\n",
    "from time import time\n",
    "from operator import itemgetter\n",
    "import numpy as np\n",
    "from pandas import DataFrame"
   ]
  },
  {
   "cell_type": "markdown",
   "metadata": {},
   "source": [
    "Zmienne"
   ]
  },
  {
   "cell_type": "code",
   "execution_count": 164,
   "metadata": {
    "collapsed": false
   },
   "outputs": [],
   "source": [
    "workspace_path = \"C:/development/repos/git/github/ZED/projekt2/\"\n"
   ]
  },
  {
   "cell_type": "markdown",
   "metadata": {},
   "source": [
    "Zaladowanie zbiorów: treningowy, testowy"
   ]
  },
  {
   "cell_type": "code",
   "execution_count": 165,
   "metadata": {
    "collapsed": false
   },
   "outputs": [],
   "source": [
    "train_data_df = pd.read_csv(workspace_path + \"data/training_data.txt\", sep=\";\", na_values=[\"nan\"], keep_default_na=False, low_memory=False)\n",
    "X_test = pd.read_csv(workspace_path + \"data/test_data.txt\", sep=\",\", na_values=[\"nan\"], keep_default_na=False)\n"
   ]
  },
  {
   "cell_type": "markdown",
   "metadata": {},
   "source": [
    "Filtracja danych [dostosowanie do danych z pogrupowanymi etykietami] "
   ]
  },
  {
   "cell_type": "code",
   "execution_count": 166,
   "metadata": {
    "collapsed": false
   },
   "outputs": [
    {
     "name": "stdout",
     "output_type": "stream",
     "text": [
      "Filtered training data dim: (11005, 795)\n"
     ]
    }
   ],
   "source": [
    "df_filtered = train_data_df.query('res_name not in (\"DA\",\"DC\",\"DT\",\"DU\",\"DG\",\"DI\",\"UNK\",\"UNX\",\"UNL\",\"PR\",\"PD\",\"Y1\",\"EU\",\"N\",\"15P\",\"UQ\",\"PX4\",\"NAN\")')\n",
    "df_grouped = df_filtered.drop_duplicates(['pdb_code', 'res_name'])\n",
    "df_without_classes = df_grouped.groupby(\"res_name\").filter(lambda x: len(x) >= 5)\n",
    "print 'Filtered training data dim:', df_without_classes.shape"
   ]
  },
  {
   "cell_type": "markdown",
   "metadata": {},
   "source": [
    "Zaladowanie danych z pogrupowanymi etykietami"
   ]
  },
  {
   "cell_type": "code",
   "execution_count": 167,
   "metadata": {
    "collapsed": false
   },
   "outputs": [
    {
     "name": "stdout",
     "output_type": "stream",
     "text": [
      "Group label dim: (11005, 2)\n"
     ]
    }
   ],
   "source": [
    "group_label_df = pd.read_csv(workspace_path + \"data/grouped_res_name.txt\", sep=\",\", na_values=[\"nan\"], keep_default_na=False, low_memory=False)\n",
    "print 'Group label dim:', group_label_df.shape"
   ]
  },
  {
   "cell_type": "markdown",
   "metadata": {},
   "source": [
    "Wybranie istotnych atrybutow do predykcji klas"
   ]
  },
  {
   "cell_type": "code",
   "execution_count": 168,
   "metadata": {
    "collapsed": true
   },
   "outputs": [],
   "source": [
    "part_00_cols = df_without_classes.filter(regex='part_00_.*');\n",
    "rest_cols = df_without_classes.filter(items=[\n",
    "  'local_volume', 'local_electrons', 'local_mean', 'local_std',\n",
    "  'local_max', 'local_skewness', 'local_parts',\n",
    "  'solvent_mask_count', 'void_mask_count', 'modeled_mask_count', 'solvent_ratio'])"
   ]
  },
  {
   "cell_type": "markdown",
   "metadata": {},
   "source": [
    "Przygotowanie zbioru testowego"
   ]
  },
  {
   "cell_type": "code",
   "execution_count": 169,
   "metadata": {
    "collapsed": true
   },
   "outputs": [],
   "source": [
    "X_test = X_test.fillna(0)\n",
    "X_test_part_00_cols = X_test.filter(regex='part_00_.*');\n",
    "X_test_rest_cols = X_test.filter(items=[\n",
    "  'local_volume', 'local_electrons', 'local_mean', 'local_std',\n",
    "  'local_max', 'local_skewness', 'local_parts',\n",
    "  'solvent_mask_count', 'void_mask_count', 'modeled_mask_count', 'solvent_ratio'])\n",
    "X_test =  pd.concat([X_test_part_00_cols,  X_test_rest_cols], axis=1);"
   ]
  },
  {
   "cell_type": "markdown",
   "metadata": {},
   "source": [
    "Przygotowanie zbioru pod klasyfikator 1"
   ]
  },
  {
   "cell_type": "code",
   "execution_count": 170,
   "metadata": {
    "collapsed": false
   },
   "outputs": [],
   "source": [
    "filtered_df = pd.concat([rest_cols,  part_00_cols], axis=1);\n",
    "filtered_df = filtered_df.fillna(0);\n",
    "X_train = filtered_df\n",
    "y_train = df_without_classes['res_name']"
   ]
  },
  {
   "cell_type": "markdown",
   "metadata": {},
   "source": [
    "Rozmiar zbioru dla klasyfikatora 1"
   ]
  },
  {
   "cell_type": "code",
   "execution_count": 171,
   "metadata": {
    "collapsed": false
   },
   "outputs": [
    {
     "name": "stdout",
     "output_type": "stream",
     "text": [
      "X_train (11005, 80)\n",
      "y_train (11005L,)\n"
     ]
    }
   ],
   "source": [
    "print \"X_train\", X_train.shape\n",
    "print \"y_train\", y_train.shape"
   ]
  },
  {
   "cell_type": "markdown",
   "metadata": {},
   "source": [
    "Klasyfikator 1"
   ]
  },
  {
   "cell_type": "code",
   "execution_count": 172,
   "metadata": {
    "collapsed": true
   },
   "outputs": [],
   "source": [
    "rfc = RandomForestClassifier(n_jobs=8)\n",
    "\n",
    "param_grid = {\n",
    "              \"n_estimators\": [100],\n",
    "              # \"max_features\": [3],\n",
    "              # \"min_samples_split\": [5],\n",
    "              # \"min_samples_leaf\": [2],\n",
    "              \"bootstrap\": [False],\n",
    "              \"criterion\": [\"gini\"]\n",
    "}\n",
    "\n",
    "clf = GridSearchCV(estimator=rfc, param_grid=param_grid, cv=5, scoring='recall_macro')"
   ]
  },
  {
   "cell_type": "markdown",
   "metadata": {},
   "source": [
    "Obliczenia klasyfikator 1"
   ]
  },
  {
   "cell_type": "code",
   "execution_count": 173,
   "metadata": {
    "collapsed": false
   },
   "outputs": [
    {
     "name": "stdout",
     "output_type": "stream",
     "text": [
      "Best parameters set found on development set:\n",
      "()\n",
      "RandomForestClassifier(bootstrap=False, class_weight=None, criterion='gini',\n",
      "            max_depth=None, max_features='auto', max_leaf_nodes=None,\n",
      "            min_samples_leaf=1, min_samples_split=2,\n",
      "            min_weight_fraction_leaf=0.0, n_estimators=100, n_jobs=8,\n",
      "            oob_score=False, random_state=None, verbose=0,\n",
      "            warm_start=False)\n",
      "()\n",
      "Best score: 0.173626498947\n"
     ]
    }
   ],
   "source": [
    "clf.fit(X_train, y_train)\n",
    "print(\"Best parameters set found on development set:\")\n",
    "print()\n",
    "print(clf.best_estimator_)\n",
    "print()\n",
    "print \"Best score:\", clf.best_score_\n"
   ]
  },
  {
   "cell_type": "markdown",
   "metadata": {},
   "source": [
    "Predykcja klasyfikatora 1 dla dostarczonych przez prowadzącego danych testowych"
   ]
  },
  {
   "cell_type": "code",
   "execution_count": 174,
   "metadata": {
    "collapsed": false
   },
   "outputs": [
    {
     "name": "stdout",
     "output_type": "stream",
     "text": [
      "Recall score[based on cv]:  0.174720539636\n"
     ]
    }
   ],
   "source": [
    "y_pred =clf.best_estimator_.predict_proba(X_test)\n",
    "\n",
    "y_pred_df = DataFrame(data=y_pred, columns=clf.best_estimator_.classes_)\n",
    "y_pred_df.to_csv(workspace_path + \"predictions/classifier1_predicts_probability.txt\", sep=\",\")\n",
    "\n",
    "\n",
    "y_pred =clf.best_estimator_.predict(X_test)\n",
    "\n",
    "y_pred_df = DataFrame(data=y_pred)\n",
    "y_pred_df.to_csv(workspace_path + \"predictions/classifier1_predicts.txt\", sep=\",\")\n",
    "\n",
    "\n",
    "y_pred = cross_val_predict(clf.best_estimator_, X_train, y_train, cv=5)\n",
    "print \"Recall score[based on cv]: \", recall_score(y_train, y_pred, average='macro')"
   ]
  },
  {
   "cell_type": "markdown",
   "metadata": {},
   "source": [
    "Przygotowanie zbioru pod klasyfikator 2"
   ]
  },
  {
   "cell_type": "code",
   "execution_count": 175,
   "metadata": {
    "collapsed": true
   },
   "outputs": [],
   "source": [
    "X_train = filtered_df\n",
    "y_train = group_label_df['res_name_group']\n",
    "\n"
   ]
  },
  {
   "cell_type": "markdown",
   "metadata": {},
   "source": [
    "Rozmiar zbioru dla klasyfikatora 2"
   ]
  },
  {
   "cell_type": "code",
   "execution_count": 176,
   "metadata": {
    "collapsed": false
   },
   "outputs": [
    {
     "name": "stdout",
     "output_type": "stream",
     "text": [
      "X_train (11005, 80)\n",
      "y_train (11005L,)\n"
     ]
    }
   ],
   "source": [
    "print \"X_train\", X_train.shape\n",
    "print \"y_train\", y_train.shape"
   ]
  },
  {
   "cell_type": "markdown",
   "metadata": {},
   "source": [
    "Klasyfikator 2"
   ]
  },
  {
   "cell_type": "code",
   "execution_count": 177,
   "metadata": {
    "collapsed": true
   },
   "outputs": [],
   "source": [
    "rfc = RandomForestClassifier(n_jobs=8)\n",
    "\n",
    "param_grid = {\n",
    "              \"n_estimators\": [100],\n",
    "              # \"max_features\": [3],\n",
    "              # \"min_samples_split\": [5],\n",
    "              # \"min_samples_leaf\": [2],\n",
    "              \"bootstrap\": [False],\n",
    "              \"criterion\": [\"gini\"]\n",
    "}\n",
    "\n",
    "clf2 = GridSearchCV(estimator=rfc, param_grid=param_grid, cv=5, scoring='recall_macro')"
   ]
  },
  {
   "cell_type": "markdown",
   "metadata": {},
   "source": [
    "Obliczenia klasyfikator 2"
   ]
  },
  {
   "cell_type": "code",
   "execution_count": 178,
   "metadata": {
    "collapsed": false
   },
   "outputs": [
    {
     "name": "stdout",
     "output_type": "stream",
     "text": [
      "Best parameters set found on development set:\n",
      "()\n",
      "RandomForestClassifier(bootstrap=False, class_weight=None, criterion='gini',\n",
      "            max_depth=None, max_features='auto', max_leaf_nodes=None,\n",
      "            min_samples_leaf=1, min_samples_split=2,\n",
      "            min_weight_fraction_leaf=0.0, n_estimators=100, n_jobs=8,\n",
      "            oob_score=False, random_state=None, verbose=0,\n",
      "            warm_start=False)\n",
      "()\n",
      "Best score: 0.211201429703\n"
     ]
    }
   ],
   "source": [
    "clf2.fit(X_train, y_train)\n",
    "print(\"Best parameters set found on development set:\")\n",
    "print()\n",
    "print(clf2.best_estimator_)\n",
    "print()\n",
    "print \"Best score:\", clf2.best_score_"
   ]
  },
  {
   "cell_type": "markdown",
   "metadata": {},
   "source": [
    "Predykcja klasyfikatora 2 dla dostarczonych przez prowadzącego danych testowych"
   ]
  },
  {
   "cell_type": "code",
   "execution_count": 179,
   "metadata": {
    "collapsed": false
   },
   "outputs": [
    {
     "name": "stdout",
     "output_type": "stream",
     "text": [
      "Recall score[based on cv]:  0.206720470832\n"
     ]
    }
   ],
   "source": [
    "y_pred =clf2.best_estimator_.predict_proba(X_test)\n",
    "\n",
    "y_pred_df = DataFrame(data=y_pred, columns=clf2.best_estimator_.classes_)\n",
    "y_pred_df.to_csv(workspace_path + \"predictions/classifier2_predicts_probability.txt\", sep=\",\")\n",
    "\n",
    "\n",
    "y_pred =clf2.best_estimator_.predict(X_test)\n",
    "\n",
    "y_pred_df = DataFrame(data=y_pred)\n",
    "y_pred_df.to_csv(workspace_path + \"predictions/classifier2_predicts.txt\", sep=\",\")\n",
    "\n",
    "\n",
    "y_pred = cross_val_predict(clf2.best_estimator_, X_train, y_train, cv=5)\n",
    "print \"Recall score[based on cv]: \", recall_score(y_train, y_pred, average='macro')"
   ]
  },
  {
   "cell_type": "markdown",
   "metadata": {},
   "source": [
    "Serializacja klasyfikatorów"
   ]
  },
  {
   "cell_type": "code",
   "execution_count": 180,
   "metadata": {
    "collapsed": false
   },
   "outputs": [
    {
     "data": {
      "text/plain": [
       "['C:/development/repos/git/github/ZED/projekt2/classifiers/classifier2.pkl',\n",
       " 'C:/development/repos/git/github/ZED/projekt2/classifiers/classifier2.pkl_01.npy',\n",
       " 'C:/development/repos/git/github/ZED/projekt2/classifiers/classifier2.pkl_02.npy',\n",
       " 'C:/development/repos/git/github/ZED/projekt2/classifiers/classifier2.pkl_03.npy',\n",
       " 'C:/development/repos/git/github/ZED/projekt2/classifiers/classifier2.pkl_04.npy',\n",
       " 'C:/development/repos/git/github/ZED/projekt2/classifiers/classifier2.pkl_05.npy',\n",
       " 'C:/development/repos/git/github/ZED/projekt2/classifiers/classifier2.pkl_06.npy',\n",
       " 'C:/development/repos/git/github/ZED/projekt2/classifiers/classifier2.pkl_07.npy',\n",
       " 'C:/development/repos/git/github/ZED/projekt2/classifiers/classifier2.pkl_08.npy',\n",
       " 'C:/development/repos/git/github/ZED/projekt2/classifiers/classifier2.pkl_09.npy',\n",
       " 'C:/development/repos/git/github/ZED/projekt2/classifiers/classifier2.pkl_10.npy',\n",
       " 'C:/development/repos/git/github/ZED/projekt2/classifiers/classifier2.pkl_11.npy',\n",
       " 'C:/development/repos/git/github/ZED/projekt2/classifiers/classifier2.pkl_12.npy',\n",
       " 'C:/development/repos/git/github/ZED/projekt2/classifiers/classifier2.pkl_13.npy',\n",
       " 'C:/development/repos/git/github/ZED/projekt2/classifiers/classifier2.pkl_14.npy',\n",
       " 'C:/development/repos/git/github/ZED/projekt2/classifiers/classifier2.pkl_15.npy',\n",
       " 'C:/development/repos/git/github/ZED/projekt2/classifiers/classifier2.pkl_16.npy',\n",
       " 'C:/development/repos/git/github/ZED/projekt2/classifiers/classifier2.pkl_17.npy',\n",
       " 'C:/development/repos/git/github/ZED/projekt2/classifiers/classifier2.pkl_18.npy',\n",
       " 'C:/development/repos/git/github/ZED/projekt2/classifiers/classifier2.pkl_19.npy',\n",
       " 'C:/development/repos/git/github/ZED/projekt2/classifiers/classifier2.pkl_20.npy',\n",
       " 'C:/development/repos/git/github/ZED/projekt2/classifiers/classifier2.pkl_21.npy',\n",
       " 'C:/development/repos/git/github/ZED/projekt2/classifiers/classifier2.pkl_22.npy',\n",
       " 'C:/development/repos/git/github/ZED/projekt2/classifiers/classifier2.pkl_23.npy',\n",
       " 'C:/development/repos/git/github/ZED/projekt2/classifiers/classifier2.pkl_24.npy',\n",
       " 'C:/development/repos/git/github/ZED/projekt2/classifiers/classifier2.pkl_25.npy',\n",
       " 'C:/development/repos/git/github/ZED/projekt2/classifiers/classifier2.pkl_26.npy',\n",
       " 'C:/development/repos/git/github/ZED/projekt2/classifiers/classifier2.pkl_27.npy',\n",
       " 'C:/development/repos/git/github/ZED/projekt2/classifiers/classifier2.pkl_28.npy',\n",
       " 'C:/development/repos/git/github/ZED/projekt2/classifiers/classifier2.pkl_29.npy',\n",
       " 'C:/development/repos/git/github/ZED/projekt2/classifiers/classifier2.pkl_30.npy',\n",
       " 'C:/development/repos/git/github/ZED/projekt2/classifiers/classifier2.pkl_31.npy',\n",
       " 'C:/development/repos/git/github/ZED/projekt2/classifiers/classifier2.pkl_32.npy',\n",
       " 'C:/development/repos/git/github/ZED/projekt2/classifiers/classifier2.pkl_33.npy',\n",
       " 'C:/development/repos/git/github/ZED/projekt2/classifiers/classifier2.pkl_34.npy',\n",
       " 'C:/development/repos/git/github/ZED/projekt2/classifiers/classifier2.pkl_35.npy',\n",
       " 'C:/development/repos/git/github/ZED/projekt2/classifiers/classifier2.pkl_36.npy',\n",
       " 'C:/development/repos/git/github/ZED/projekt2/classifiers/classifier2.pkl_37.npy',\n",
       " 'C:/development/repos/git/github/ZED/projekt2/classifiers/classifier2.pkl_38.npy',\n",
       " 'C:/development/repos/git/github/ZED/projekt2/classifiers/classifier2.pkl_39.npy',\n",
       " 'C:/development/repos/git/github/ZED/projekt2/classifiers/classifier2.pkl_40.npy',\n",
       " 'C:/development/repos/git/github/ZED/projekt2/classifiers/classifier2.pkl_41.npy',\n",
       " 'C:/development/repos/git/github/ZED/projekt2/classifiers/classifier2.pkl_42.npy',\n",
       " 'C:/development/repos/git/github/ZED/projekt2/classifiers/classifier2.pkl_43.npy',\n",
       " 'C:/development/repos/git/github/ZED/projekt2/classifiers/classifier2.pkl_44.npy',\n",
       " 'C:/development/repos/git/github/ZED/projekt2/classifiers/classifier2.pkl_45.npy',\n",
       " 'C:/development/repos/git/github/ZED/projekt2/classifiers/classifier2.pkl_46.npy',\n",
       " 'C:/development/repos/git/github/ZED/projekt2/classifiers/classifier2.pkl_47.npy',\n",
       " 'C:/development/repos/git/github/ZED/projekt2/classifiers/classifier2.pkl_48.npy',\n",
       " 'C:/development/repos/git/github/ZED/projekt2/classifiers/classifier2.pkl_49.npy',\n",
       " 'C:/development/repos/git/github/ZED/projekt2/classifiers/classifier2.pkl_50.npy',\n",
       " 'C:/development/repos/git/github/ZED/projekt2/classifiers/classifier2.pkl_51.npy',\n",
       " 'C:/development/repos/git/github/ZED/projekt2/classifiers/classifier2.pkl_52.npy',\n",
       " 'C:/development/repos/git/github/ZED/projekt2/classifiers/classifier2.pkl_53.npy',\n",
       " 'C:/development/repos/git/github/ZED/projekt2/classifiers/classifier2.pkl_54.npy',\n",
       " 'C:/development/repos/git/github/ZED/projekt2/classifiers/classifier2.pkl_55.npy',\n",
       " 'C:/development/repos/git/github/ZED/projekt2/classifiers/classifier2.pkl_56.npy',\n",
       " 'C:/development/repos/git/github/ZED/projekt2/classifiers/classifier2.pkl_57.npy',\n",
       " 'C:/development/repos/git/github/ZED/projekt2/classifiers/classifier2.pkl_58.npy',\n",
       " 'C:/development/repos/git/github/ZED/projekt2/classifiers/classifier2.pkl_59.npy',\n",
       " 'C:/development/repos/git/github/ZED/projekt2/classifiers/classifier2.pkl_60.npy',\n",
       " 'C:/development/repos/git/github/ZED/projekt2/classifiers/classifier2.pkl_61.npy',\n",
       " 'C:/development/repos/git/github/ZED/projekt2/classifiers/classifier2.pkl_62.npy',\n",
       " 'C:/development/repos/git/github/ZED/projekt2/classifiers/classifier2.pkl_63.npy',\n",
       " 'C:/development/repos/git/github/ZED/projekt2/classifiers/classifier2.pkl_64.npy',\n",
       " 'C:/development/repos/git/github/ZED/projekt2/classifiers/classifier2.pkl_65.npy',\n",
       " 'C:/development/repos/git/github/ZED/projekt2/classifiers/classifier2.pkl_66.npy',\n",
       " 'C:/development/repos/git/github/ZED/projekt2/classifiers/classifier2.pkl_67.npy',\n",
       " 'C:/development/repos/git/github/ZED/projekt2/classifiers/classifier2.pkl_68.npy',\n",
       " 'C:/development/repos/git/github/ZED/projekt2/classifiers/classifier2.pkl_69.npy',\n",
       " 'C:/development/repos/git/github/ZED/projekt2/classifiers/classifier2.pkl_70.npy',\n",
       " 'C:/development/repos/git/github/ZED/projekt2/classifiers/classifier2.pkl_71.npy',\n",
       " 'C:/development/repos/git/github/ZED/projekt2/classifiers/classifier2.pkl_72.npy',\n",
       " 'C:/development/repos/git/github/ZED/projekt2/classifiers/classifier2.pkl_73.npy',\n",
       " 'C:/development/repos/git/github/ZED/projekt2/classifiers/classifier2.pkl_74.npy',\n",
       " 'C:/development/repos/git/github/ZED/projekt2/classifiers/classifier2.pkl_75.npy',\n",
       " 'C:/development/repos/git/github/ZED/projekt2/classifiers/classifier2.pkl_76.npy',\n",
       " 'C:/development/repos/git/github/ZED/projekt2/classifiers/classifier2.pkl_77.npy',\n",
       " 'C:/development/repos/git/github/ZED/projekt2/classifiers/classifier2.pkl_78.npy',\n",
       " 'C:/development/repos/git/github/ZED/projekt2/classifiers/classifier2.pkl_79.npy',\n",
       " 'C:/development/repos/git/github/ZED/projekt2/classifiers/classifier2.pkl_80.npy',\n",
       " 'C:/development/repos/git/github/ZED/projekt2/classifiers/classifier2.pkl_81.npy',\n",
       " 'C:/development/repos/git/github/ZED/projekt2/classifiers/classifier2.pkl_82.npy',\n",
       " 'C:/development/repos/git/github/ZED/projekt2/classifiers/classifier2.pkl_83.npy',\n",
       " 'C:/development/repos/git/github/ZED/projekt2/classifiers/classifier2.pkl_84.npy',\n",
       " 'C:/development/repos/git/github/ZED/projekt2/classifiers/classifier2.pkl_85.npy',\n",
       " 'C:/development/repos/git/github/ZED/projekt2/classifiers/classifier2.pkl_86.npy',\n",
       " 'C:/development/repos/git/github/ZED/projekt2/classifiers/classifier2.pkl_87.npy',\n",
       " 'C:/development/repos/git/github/ZED/projekt2/classifiers/classifier2.pkl_88.npy',\n",
       " 'C:/development/repos/git/github/ZED/projekt2/classifiers/classifier2.pkl_89.npy',\n",
       " 'C:/development/repos/git/github/ZED/projekt2/classifiers/classifier2.pkl_90.npy',\n",
       " 'C:/development/repos/git/github/ZED/projekt2/classifiers/classifier2.pkl_91.npy',\n",
       " 'C:/development/repos/git/github/ZED/projekt2/classifiers/classifier2.pkl_92.npy',\n",
       " 'C:/development/repos/git/github/ZED/projekt2/classifiers/classifier2.pkl_93.npy',\n",
       " 'C:/development/repos/git/github/ZED/projekt2/classifiers/classifier2.pkl_94.npy',\n",
       " 'C:/development/repos/git/github/ZED/projekt2/classifiers/classifier2.pkl_95.npy',\n",
       " 'C:/development/repos/git/github/ZED/projekt2/classifiers/classifier2.pkl_96.npy',\n",
       " 'C:/development/repos/git/github/ZED/projekt2/classifiers/classifier2.pkl_97.npy',\n",
       " 'C:/development/repos/git/github/ZED/projekt2/classifiers/classifier2.pkl_98.npy',\n",
       " 'C:/development/repos/git/github/ZED/projekt2/classifiers/classifier2.pkl_99.npy',\n",
       " 'C:/development/repos/git/github/ZED/projekt2/classifiers/classifier2.pkl_100.npy',\n",
       " 'C:/development/repos/git/github/ZED/projekt2/classifiers/classifier2.pkl_101.npy',\n",
       " 'C:/development/repos/git/github/ZED/projekt2/classifiers/classifier2.pkl_102.npy',\n",
       " 'C:/development/repos/git/github/ZED/projekt2/classifiers/classifier2.pkl_103.npy',\n",
       " 'C:/development/repos/git/github/ZED/projekt2/classifiers/classifier2.pkl_104.npy',\n",
       " 'C:/development/repos/git/github/ZED/projekt2/classifiers/classifier2.pkl_105.npy',\n",
       " 'C:/development/repos/git/github/ZED/projekt2/classifiers/classifier2.pkl_106.npy',\n",
       " 'C:/development/repos/git/github/ZED/projekt2/classifiers/classifier2.pkl_107.npy',\n",
       " 'C:/development/repos/git/github/ZED/projekt2/classifiers/classifier2.pkl_108.npy',\n",
       " 'C:/development/repos/git/github/ZED/projekt2/classifiers/classifier2.pkl_109.npy',\n",
       " 'C:/development/repos/git/github/ZED/projekt2/classifiers/classifier2.pkl_110.npy',\n",
       " 'C:/development/repos/git/github/ZED/projekt2/classifiers/classifier2.pkl_111.npy',\n",
       " 'C:/development/repos/git/github/ZED/projekt2/classifiers/classifier2.pkl_112.npy',\n",
       " 'C:/development/repos/git/github/ZED/projekt2/classifiers/classifier2.pkl_113.npy',\n",
       " 'C:/development/repos/git/github/ZED/projekt2/classifiers/classifier2.pkl_114.npy',\n",
       " 'C:/development/repos/git/github/ZED/projekt2/classifiers/classifier2.pkl_115.npy',\n",
       " 'C:/development/repos/git/github/ZED/projekt2/classifiers/classifier2.pkl_116.npy',\n",
       " 'C:/development/repos/git/github/ZED/projekt2/classifiers/classifier2.pkl_117.npy',\n",
       " 'C:/development/repos/git/github/ZED/projekt2/classifiers/classifier2.pkl_118.npy',\n",
       " 'C:/development/repos/git/github/ZED/projekt2/classifiers/classifier2.pkl_119.npy',\n",
       " 'C:/development/repos/git/github/ZED/projekt2/classifiers/classifier2.pkl_120.npy',\n",
       " 'C:/development/repos/git/github/ZED/projekt2/classifiers/classifier2.pkl_121.npy',\n",
       " 'C:/development/repos/git/github/ZED/projekt2/classifiers/classifier2.pkl_122.npy',\n",
       " 'C:/development/repos/git/github/ZED/projekt2/classifiers/classifier2.pkl_123.npy',\n",
       " 'C:/development/repos/git/github/ZED/projekt2/classifiers/classifier2.pkl_124.npy',\n",
       " 'C:/development/repos/git/github/ZED/projekt2/classifiers/classifier2.pkl_125.npy',\n",
       " 'C:/development/repos/git/github/ZED/projekt2/classifiers/classifier2.pkl_126.npy',\n",
       " 'C:/development/repos/git/github/ZED/projekt2/classifiers/classifier2.pkl_127.npy',\n",
       " 'C:/development/repos/git/github/ZED/projekt2/classifiers/classifier2.pkl_128.npy',\n",
       " 'C:/development/repos/git/github/ZED/projekt2/classifiers/classifier2.pkl_129.npy',\n",
       " 'C:/development/repos/git/github/ZED/projekt2/classifiers/classifier2.pkl_130.npy',\n",
       " 'C:/development/repos/git/github/ZED/projekt2/classifiers/classifier2.pkl_131.npy',\n",
       " 'C:/development/repos/git/github/ZED/projekt2/classifiers/classifier2.pkl_132.npy',\n",
       " 'C:/development/repos/git/github/ZED/projekt2/classifiers/classifier2.pkl_133.npy',\n",
       " 'C:/development/repos/git/github/ZED/projekt2/classifiers/classifier2.pkl_134.npy',\n",
       " 'C:/development/repos/git/github/ZED/projekt2/classifiers/classifier2.pkl_135.npy',\n",
       " 'C:/development/repos/git/github/ZED/projekt2/classifiers/classifier2.pkl_136.npy',\n",
       " 'C:/development/repos/git/github/ZED/projekt2/classifiers/classifier2.pkl_137.npy',\n",
       " 'C:/development/repos/git/github/ZED/projekt2/classifiers/classifier2.pkl_138.npy',\n",
       " 'C:/development/repos/git/github/ZED/projekt2/classifiers/classifier2.pkl_139.npy',\n",
       " 'C:/development/repos/git/github/ZED/projekt2/classifiers/classifier2.pkl_140.npy',\n",
       " 'C:/development/repos/git/github/ZED/projekt2/classifiers/classifier2.pkl_141.npy',\n",
       " 'C:/development/repos/git/github/ZED/projekt2/classifiers/classifier2.pkl_142.npy',\n",
       " 'C:/development/repos/git/github/ZED/projekt2/classifiers/classifier2.pkl_143.npy',\n",
       " 'C:/development/repos/git/github/ZED/projekt2/classifiers/classifier2.pkl_144.npy',\n",
       " 'C:/development/repos/git/github/ZED/projekt2/classifiers/classifier2.pkl_145.npy',\n",
       " 'C:/development/repos/git/github/ZED/projekt2/classifiers/classifier2.pkl_146.npy',\n",
       " 'C:/development/repos/git/github/ZED/projekt2/classifiers/classifier2.pkl_147.npy',\n",
       " 'C:/development/repos/git/github/ZED/projekt2/classifiers/classifier2.pkl_148.npy',\n",
       " 'C:/development/repos/git/github/ZED/projekt2/classifiers/classifier2.pkl_149.npy',\n",
       " 'C:/development/repos/git/github/ZED/projekt2/classifiers/classifier2.pkl_150.npy',\n",
       " 'C:/development/repos/git/github/ZED/projekt2/classifiers/classifier2.pkl_151.npy',\n",
       " 'C:/development/repos/git/github/ZED/projekt2/classifiers/classifier2.pkl_152.npy',\n",
       " 'C:/development/repos/git/github/ZED/projekt2/classifiers/classifier2.pkl_153.npy',\n",
       " 'C:/development/repos/git/github/ZED/projekt2/classifiers/classifier2.pkl_154.npy',\n",
       " 'C:/development/repos/git/github/ZED/projekt2/classifiers/classifier2.pkl_155.npy',\n",
       " 'C:/development/repos/git/github/ZED/projekt2/classifiers/classifier2.pkl_156.npy',\n",
       " 'C:/development/repos/git/github/ZED/projekt2/classifiers/classifier2.pkl_157.npy',\n",
       " 'C:/development/repos/git/github/ZED/projekt2/classifiers/classifier2.pkl_158.npy',\n",
       " 'C:/development/repos/git/github/ZED/projekt2/classifiers/classifier2.pkl_159.npy',\n",
       " 'C:/development/repos/git/github/ZED/projekt2/classifiers/classifier2.pkl_160.npy',\n",
       " 'C:/development/repos/git/github/ZED/projekt2/classifiers/classifier2.pkl_161.npy',\n",
       " 'C:/development/repos/git/github/ZED/projekt2/classifiers/classifier2.pkl_162.npy',\n",
       " 'C:/development/repos/git/github/ZED/projekt2/classifiers/classifier2.pkl_163.npy',\n",
       " 'C:/development/repos/git/github/ZED/projekt2/classifiers/classifier2.pkl_164.npy',\n",
       " 'C:/development/repos/git/github/ZED/projekt2/classifiers/classifier2.pkl_165.npy',\n",
       " 'C:/development/repos/git/github/ZED/projekt2/classifiers/classifier2.pkl_166.npy',\n",
       " 'C:/development/repos/git/github/ZED/projekt2/classifiers/classifier2.pkl_167.npy',\n",
       " 'C:/development/repos/git/github/ZED/projekt2/classifiers/classifier2.pkl_168.npy',\n",
       " 'C:/development/repos/git/github/ZED/projekt2/classifiers/classifier2.pkl_169.npy',\n",
       " 'C:/development/repos/git/github/ZED/projekt2/classifiers/classifier2.pkl_170.npy',\n",
       " 'C:/development/repos/git/github/ZED/projekt2/classifiers/classifier2.pkl_171.npy',\n",
       " 'C:/development/repos/git/github/ZED/projekt2/classifiers/classifier2.pkl_172.npy',\n",
       " 'C:/development/repos/git/github/ZED/projekt2/classifiers/classifier2.pkl_173.npy',\n",
       " 'C:/development/repos/git/github/ZED/projekt2/classifiers/classifier2.pkl_174.npy',\n",
       " 'C:/development/repos/git/github/ZED/projekt2/classifiers/classifier2.pkl_175.npy',\n",
       " 'C:/development/repos/git/github/ZED/projekt2/classifiers/classifier2.pkl_176.npy',\n",
       " 'C:/development/repos/git/github/ZED/projekt2/classifiers/classifier2.pkl_177.npy',\n",
       " 'C:/development/repos/git/github/ZED/projekt2/classifiers/classifier2.pkl_178.npy',\n",
       " 'C:/development/repos/git/github/ZED/projekt2/classifiers/classifier2.pkl_179.npy',\n",
       " 'C:/development/repos/git/github/ZED/projekt2/classifiers/classifier2.pkl_180.npy',\n",
       " 'C:/development/repos/git/github/ZED/projekt2/classifiers/classifier2.pkl_181.npy',\n",
       " 'C:/development/repos/git/github/ZED/projekt2/classifiers/classifier2.pkl_182.npy',\n",
       " 'C:/development/repos/git/github/ZED/projekt2/classifiers/classifier2.pkl_183.npy',\n",
       " 'C:/development/repos/git/github/ZED/projekt2/classifiers/classifier2.pkl_184.npy',\n",
       " 'C:/development/repos/git/github/ZED/projekt2/classifiers/classifier2.pkl_185.npy',\n",
       " 'C:/development/repos/git/github/ZED/projekt2/classifiers/classifier2.pkl_186.npy',\n",
       " 'C:/development/repos/git/github/ZED/projekt2/classifiers/classifier2.pkl_187.npy',\n",
       " 'C:/development/repos/git/github/ZED/projekt2/classifiers/classifier2.pkl_188.npy',\n",
       " 'C:/development/repos/git/github/ZED/projekt2/classifiers/classifier2.pkl_189.npy',\n",
       " 'C:/development/repos/git/github/ZED/projekt2/classifiers/classifier2.pkl_190.npy',\n",
       " 'C:/development/repos/git/github/ZED/projekt2/classifiers/classifier2.pkl_191.npy',\n",
       " 'C:/development/repos/git/github/ZED/projekt2/classifiers/classifier2.pkl_192.npy',\n",
       " 'C:/development/repos/git/github/ZED/projekt2/classifiers/classifier2.pkl_193.npy',\n",
       " 'C:/development/repos/git/github/ZED/projekt2/classifiers/classifier2.pkl_194.npy',\n",
       " 'C:/development/repos/git/github/ZED/projekt2/classifiers/classifier2.pkl_195.npy',\n",
       " 'C:/development/repos/git/github/ZED/projekt2/classifiers/classifier2.pkl_196.npy',\n",
       " 'C:/development/repos/git/github/ZED/projekt2/classifiers/classifier2.pkl_197.npy',\n",
       " 'C:/development/repos/git/github/ZED/projekt2/classifiers/classifier2.pkl_198.npy',\n",
       " 'C:/development/repos/git/github/ZED/projekt2/classifiers/classifier2.pkl_199.npy',\n",
       " 'C:/development/repos/git/github/ZED/projekt2/classifiers/classifier2.pkl_200.npy',\n",
       " 'C:/development/repos/git/github/ZED/projekt2/classifiers/classifier2.pkl_201.npy',\n",
       " 'C:/development/repos/git/github/ZED/projekt2/classifiers/classifier2.pkl_202.npy',\n",
       " 'C:/development/repos/git/github/ZED/projekt2/classifiers/classifier2.pkl_203.npy',\n",
       " 'C:/development/repos/git/github/ZED/projekt2/classifiers/classifier2.pkl_204.npy',\n",
       " 'C:/development/repos/git/github/ZED/projekt2/classifiers/classifier2.pkl_205.npy',\n",
       " 'C:/development/repos/git/github/ZED/projekt2/classifiers/classifier2.pkl_206.npy',\n",
       " 'C:/development/repos/git/github/ZED/projekt2/classifiers/classifier2.pkl_207.npy',\n",
       " 'C:/development/repos/git/github/ZED/projekt2/classifiers/classifier2.pkl_208.npy',\n",
       " 'C:/development/repos/git/github/ZED/projekt2/classifiers/classifier2.pkl_209.npy',\n",
       " 'C:/development/repos/git/github/ZED/projekt2/classifiers/classifier2.pkl_210.npy',\n",
       " 'C:/development/repos/git/github/ZED/projekt2/classifiers/classifier2.pkl_211.npy',\n",
       " 'C:/development/repos/git/github/ZED/projekt2/classifiers/classifier2.pkl_212.npy',\n",
       " 'C:/development/repos/git/github/ZED/projekt2/classifiers/classifier2.pkl_213.npy',\n",
       " 'C:/development/repos/git/github/ZED/projekt2/classifiers/classifier2.pkl_214.npy',\n",
       " 'C:/development/repos/git/github/ZED/projekt2/classifiers/classifier2.pkl_215.npy',\n",
       " 'C:/development/repos/git/github/ZED/projekt2/classifiers/classifier2.pkl_216.npy',\n",
       " 'C:/development/repos/git/github/ZED/projekt2/classifiers/classifier2.pkl_217.npy',\n",
       " 'C:/development/repos/git/github/ZED/projekt2/classifiers/classifier2.pkl_218.npy',\n",
       " 'C:/development/repos/git/github/ZED/projekt2/classifiers/classifier2.pkl_219.npy',\n",
       " 'C:/development/repos/git/github/ZED/projekt2/classifiers/classifier2.pkl_220.npy',\n",
       " 'C:/development/repos/git/github/ZED/projekt2/classifiers/classifier2.pkl_221.npy',\n",
       " 'C:/development/repos/git/github/ZED/projekt2/classifiers/classifier2.pkl_222.npy',\n",
       " 'C:/development/repos/git/github/ZED/projekt2/classifiers/classifier2.pkl_223.npy',\n",
       " 'C:/development/repos/git/github/ZED/projekt2/classifiers/classifier2.pkl_224.npy',\n",
       " 'C:/development/repos/git/github/ZED/projekt2/classifiers/classifier2.pkl_225.npy',\n",
       " 'C:/development/repos/git/github/ZED/projekt2/classifiers/classifier2.pkl_226.npy',\n",
       " 'C:/development/repos/git/github/ZED/projekt2/classifiers/classifier2.pkl_227.npy',\n",
       " 'C:/development/repos/git/github/ZED/projekt2/classifiers/classifier2.pkl_228.npy',\n",
       " 'C:/development/repos/git/github/ZED/projekt2/classifiers/classifier2.pkl_229.npy',\n",
       " 'C:/development/repos/git/github/ZED/projekt2/classifiers/classifier2.pkl_230.npy',\n",
       " 'C:/development/repos/git/github/ZED/projekt2/classifiers/classifier2.pkl_231.npy',\n",
       " 'C:/development/repos/git/github/ZED/projekt2/classifiers/classifier2.pkl_232.npy',\n",
       " 'C:/development/repos/git/github/ZED/projekt2/classifiers/classifier2.pkl_233.npy',\n",
       " 'C:/development/repos/git/github/ZED/projekt2/classifiers/classifier2.pkl_234.npy',\n",
       " 'C:/development/repos/git/github/ZED/projekt2/classifiers/classifier2.pkl_235.npy',\n",
       " 'C:/development/repos/git/github/ZED/projekt2/classifiers/classifier2.pkl_236.npy',\n",
       " 'C:/development/repos/git/github/ZED/projekt2/classifiers/classifier2.pkl_237.npy',\n",
       " 'C:/development/repos/git/github/ZED/projekt2/classifiers/classifier2.pkl_238.npy',\n",
       " 'C:/development/repos/git/github/ZED/projekt2/classifiers/classifier2.pkl_239.npy',\n",
       " 'C:/development/repos/git/github/ZED/projekt2/classifiers/classifier2.pkl_240.npy',\n",
       " 'C:/development/repos/git/github/ZED/projekt2/classifiers/classifier2.pkl_241.npy',\n",
       " 'C:/development/repos/git/github/ZED/projekt2/classifiers/classifier2.pkl_242.npy',\n",
       " 'C:/development/repos/git/github/ZED/projekt2/classifiers/classifier2.pkl_243.npy',\n",
       " 'C:/development/repos/git/github/ZED/projekt2/classifiers/classifier2.pkl_244.npy',\n",
       " 'C:/development/repos/git/github/ZED/projekt2/classifiers/classifier2.pkl_245.npy',\n",
       " 'C:/development/repos/git/github/ZED/projekt2/classifiers/classifier2.pkl_246.npy',\n",
       " 'C:/development/repos/git/github/ZED/projekt2/classifiers/classifier2.pkl_247.npy',\n",
       " 'C:/development/repos/git/github/ZED/projekt2/classifiers/classifier2.pkl_248.npy',\n",
       " 'C:/development/repos/git/github/ZED/projekt2/classifiers/classifier2.pkl_249.npy',\n",
       " 'C:/development/repos/git/github/ZED/projekt2/classifiers/classifier2.pkl_250.npy',\n",
       " 'C:/development/repos/git/github/ZED/projekt2/classifiers/classifier2.pkl_251.npy',\n",
       " 'C:/development/repos/git/github/ZED/projekt2/classifiers/classifier2.pkl_252.npy',\n",
       " 'C:/development/repos/git/github/ZED/projekt2/classifiers/classifier2.pkl_253.npy',\n",
       " 'C:/development/repos/git/github/ZED/projekt2/classifiers/classifier2.pkl_254.npy',\n",
       " 'C:/development/repos/git/github/ZED/projekt2/classifiers/classifier2.pkl_255.npy',\n",
       " 'C:/development/repos/git/github/ZED/projekt2/classifiers/classifier2.pkl_256.npy',\n",
       " 'C:/development/repos/git/github/ZED/projekt2/classifiers/classifier2.pkl_257.npy',\n",
       " 'C:/development/repos/git/github/ZED/projekt2/classifiers/classifier2.pkl_258.npy',\n",
       " 'C:/development/repos/git/github/ZED/projekt2/classifiers/classifier2.pkl_259.npy',\n",
       " 'C:/development/repos/git/github/ZED/projekt2/classifiers/classifier2.pkl_260.npy',\n",
       " 'C:/development/repos/git/github/ZED/projekt2/classifiers/classifier2.pkl_261.npy',\n",
       " 'C:/development/repos/git/github/ZED/projekt2/classifiers/classifier2.pkl_262.npy',\n",
       " 'C:/development/repos/git/github/ZED/projekt2/classifiers/classifier2.pkl_263.npy',\n",
       " 'C:/development/repos/git/github/ZED/projekt2/classifiers/classifier2.pkl_264.npy',\n",
       " 'C:/development/repos/git/github/ZED/projekt2/classifiers/classifier2.pkl_265.npy',\n",
       " 'C:/development/repos/git/github/ZED/projekt2/classifiers/classifier2.pkl_266.npy',\n",
       " 'C:/development/repos/git/github/ZED/projekt2/classifiers/classifier2.pkl_267.npy',\n",
       " 'C:/development/repos/git/github/ZED/projekt2/classifiers/classifier2.pkl_268.npy',\n",
       " 'C:/development/repos/git/github/ZED/projekt2/classifiers/classifier2.pkl_269.npy',\n",
       " 'C:/development/repos/git/github/ZED/projekt2/classifiers/classifier2.pkl_270.npy',\n",
       " 'C:/development/repos/git/github/ZED/projekt2/classifiers/classifier2.pkl_271.npy',\n",
       " 'C:/development/repos/git/github/ZED/projekt2/classifiers/classifier2.pkl_272.npy',\n",
       " 'C:/development/repos/git/github/ZED/projekt2/classifiers/classifier2.pkl_273.npy',\n",
       " 'C:/development/repos/git/github/ZED/projekt2/classifiers/classifier2.pkl_274.npy',\n",
       " 'C:/development/repos/git/github/ZED/projekt2/classifiers/classifier2.pkl_275.npy',\n",
       " 'C:/development/repos/git/github/ZED/projekt2/classifiers/classifier2.pkl_276.npy',\n",
       " 'C:/development/repos/git/github/ZED/projekt2/classifiers/classifier2.pkl_277.npy',\n",
       " 'C:/development/repos/git/github/ZED/projekt2/classifiers/classifier2.pkl_278.npy',\n",
       " 'C:/development/repos/git/github/ZED/projekt2/classifiers/classifier2.pkl_279.npy',\n",
       " 'C:/development/repos/git/github/ZED/projekt2/classifiers/classifier2.pkl_280.npy',\n",
       " 'C:/development/repos/git/github/ZED/projekt2/classifiers/classifier2.pkl_281.npy',\n",
       " 'C:/development/repos/git/github/ZED/projekt2/classifiers/classifier2.pkl_282.npy',\n",
       " 'C:/development/repos/git/github/ZED/projekt2/classifiers/classifier2.pkl_283.npy',\n",
       " 'C:/development/repos/git/github/ZED/projekt2/classifiers/classifier2.pkl_284.npy',\n",
       " 'C:/development/repos/git/github/ZED/projekt2/classifiers/classifier2.pkl_285.npy',\n",
       " 'C:/development/repos/git/github/ZED/projekt2/classifiers/classifier2.pkl_286.npy',\n",
       " 'C:/development/repos/git/github/ZED/projekt2/classifiers/classifier2.pkl_287.npy',\n",
       " 'C:/development/repos/git/github/ZED/projekt2/classifiers/classifier2.pkl_288.npy',\n",
       " 'C:/development/repos/git/github/ZED/projekt2/classifiers/classifier2.pkl_289.npy',\n",
       " 'C:/development/repos/git/github/ZED/projekt2/classifiers/classifier2.pkl_290.npy',\n",
       " 'C:/development/repos/git/github/ZED/projekt2/classifiers/classifier2.pkl_291.npy',\n",
       " 'C:/development/repos/git/github/ZED/projekt2/classifiers/classifier2.pkl_292.npy',\n",
       " 'C:/development/repos/git/github/ZED/projekt2/classifiers/classifier2.pkl_293.npy',\n",
       " 'C:/development/repos/git/github/ZED/projekt2/classifiers/classifier2.pkl_294.npy',\n",
       " 'C:/development/repos/git/github/ZED/projekt2/classifiers/classifier2.pkl_295.npy',\n",
       " 'C:/development/repos/git/github/ZED/projekt2/classifiers/classifier2.pkl_296.npy',\n",
       " 'C:/development/repos/git/github/ZED/projekt2/classifiers/classifier2.pkl_297.npy',\n",
       " 'C:/development/repos/git/github/ZED/projekt2/classifiers/classifier2.pkl_298.npy',\n",
       " 'C:/development/repos/git/github/ZED/projekt2/classifiers/classifier2.pkl_299.npy',\n",
       " 'C:/development/repos/git/github/ZED/projekt2/classifiers/classifier2.pkl_300.npy',\n",
       " 'C:/development/repos/git/github/ZED/projekt2/classifiers/classifier2.pkl_301.npy',\n",
       " 'C:/development/repos/git/github/ZED/projekt2/classifiers/classifier2.pkl_302.npy',\n",
       " 'C:/development/repos/git/github/ZED/projekt2/classifiers/classifier2.pkl_303.npy',\n",
       " 'C:/development/repos/git/github/ZED/projekt2/classifiers/classifier2.pkl_304.npy',\n",
       " 'C:/development/repos/git/github/ZED/projekt2/classifiers/classifier2.pkl_305.npy',\n",
       " 'C:/development/repos/git/github/ZED/projekt2/classifiers/classifier2.pkl_306.npy',\n",
       " 'C:/development/repos/git/github/ZED/projekt2/classifiers/classifier2.pkl_307.npy',\n",
       " 'C:/development/repos/git/github/ZED/projekt2/classifiers/classifier2.pkl_308.npy',\n",
       " 'C:/development/repos/git/github/ZED/projekt2/classifiers/classifier2.pkl_309.npy',\n",
       " 'C:/development/repos/git/github/ZED/projekt2/classifiers/classifier2.pkl_310.npy',\n",
       " 'C:/development/repos/git/github/ZED/projekt2/classifiers/classifier2.pkl_311.npy',\n",
       " 'C:/development/repos/git/github/ZED/projekt2/classifiers/classifier2.pkl_312.npy',\n",
       " 'C:/development/repos/git/github/ZED/projekt2/classifiers/classifier2.pkl_313.npy',\n",
       " 'C:/development/repos/git/github/ZED/projekt2/classifiers/classifier2.pkl_314.npy',\n",
       " 'C:/development/repos/git/github/ZED/projekt2/classifiers/classifier2.pkl_315.npy',\n",
       " 'C:/development/repos/git/github/ZED/projekt2/classifiers/classifier2.pkl_316.npy',\n",
       " 'C:/development/repos/git/github/ZED/projekt2/classifiers/classifier2.pkl_317.npy',\n",
       " 'C:/development/repos/git/github/ZED/projekt2/classifiers/classifier2.pkl_318.npy',\n",
       " 'C:/development/repos/git/github/ZED/projekt2/classifiers/classifier2.pkl_319.npy',\n",
       " 'C:/development/repos/git/github/ZED/projekt2/classifiers/classifier2.pkl_320.npy',\n",
       " 'C:/development/repos/git/github/ZED/projekt2/classifiers/classifier2.pkl_321.npy',\n",
       " 'C:/development/repos/git/github/ZED/projekt2/classifiers/classifier2.pkl_322.npy',\n",
       " 'C:/development/repos/git/github/ZED/projekt2/classifiers/classifier2.pkl_323.npy',\n",
       " 'C:/development/repos/git/github/ZED/projekt2/classifiers/classifier2.pkl_324.npy',\n",
       " 'C:/development/repos/git/github/ZED/projekt2/classifiers/classifier2.pkl_325.npy',\n",
       " 'C:/development/repos/git/github/ZED/projekt2/classifiers/classifier2.pkl_326.npy',\n",
       " 'C:/development/repos/git/github/ZED/projekt2/classifiers/classifier2.pkl_327.npy',\n",
       " 'C:/development/repos/git/github/ZED/projekt2/classifiers/classifier2.pkl_328.npy',\n",
       " 'C:/development/repos/git/github/ZED/projekt2/classifiers/classifier2.pkl_329.npy',\n",
       " 'C:/development/repos/git/github/ZED/projekt2/classifiers/classifier2.pkl_330.npy',\n",
       " 'C:/development/repos/git/github/ZED/projekt2/classifiers/classifier2.pkl_331.npy',\n",
       " 'C:/development/repos/git/github/ZED/projekt2/classifiers/classifier2.pkl_332.npy',\n",
       " 'C:/development/repos/git/github/ZED/projekt2/classifiers/classifier2.pkl_333.npy',\n",
       " 'C:/development/repos/git/github/ZED/projekt2/classifiers/classifier2.pkl_334.npy',\n",
       " 'C:/development/repos/git/github/ZED/projekt2/classifiers/classifier2.pkl_335.npy',\n",
       " 'C:/development/repos/git/github/ZED/projekt2/classifiers/classifier2.pkl_336.npy',\n",
       " 'C:/development/repos/git/github/ZED/projekt2/classifiers/classifier2.pkl_337.npy',\n",
       " 'C:/development/repos/git/github/ZED/projekt2/classifiers/classifier2.pkl_338.npy',\n",
       " 'C:/development/repos/git/github/ZED/projekt2/classifiers/classifier2.pkl_339.npy',\n",
       " 'C:/development/repos/git/github/ZED/projekt2/classifiers/classifier2.pkl_340.npy',\n",
       " 'C:/development/repos/git/github/ZED/projekt2/classifiers/classifier2.pkl_341.npy',\n",
       " 'C:/development/repos/git/github/ZED/projekt2/classifiers/classifier2.pkl_342.npy',\n",
       " 'C:/development/repos/git/github/ZED/projekt2/classifiers/classifier2.pkl_343.npy',\n",
       " 'C:/development/repos/git/github/ZED/projekt2/classifiers/classifier2.pkl_344.npy',\n",
       " 'C:/development/repos/git/github/ZED/projekt2/classifiers/classifier2.pkl_345.npy',\n",
       " 'C:/development/repos/git/github/ZED/projekt2/classifiers/classifier2.pkl_346.npy',\n",
       " 'C:/development/repos/git/github/ZED/projekt2/classifiers/classifier2.pkl_347.npy',\n",
       " 'C:/development/repos/git/github/ZED/projekt2/classifiers/classifier2.pkl_348.npy',\n",
       " 'C:/development/repos/git/github/ZED/projekt2/classifiers/classifier2.pkl_349.npy',\n",
       " 'C:/development/repos/git/github/ZED/projekt2/classifiers/classifier2.pkl_350.npy',\n",
       " 'C:/development/repos/git/github/ZED/projekt2/classifiers/classifier2.pkl_351.npy',\n",
       " 'C:/development/repos/git/github/ZED/projekt2/classifiers/classifier2.pkl_352.npy',\n",
       " 'C:/development/repos/git/github/ZED/projekt2/classifiers/classifier2.pkl_353.npy',\n",
       " 'C:/development/repos/git/github/ZED/projekt2/classifiers/classifier2.pkl_354.npy',\n",
       " 'C:/development/repos/git/github/ZED/projekt2/classifiers/classifier2.pkl_355.npy',\n",
       " 'C:/development/repos/git/github/ZED/projekt2/classifiers/classifier2.pkl_356.npy',\n",
       " 'C:/development/repos/git/github/ZED/projekt2/classifiers/classifier2.pkl_357.npy',\n",
       " 'C:/development/repos/git/github/ZED/projekt2/classifiers/classifier2.pkl_358.npy',\n",
       " 'C:/development/repos/git/github/ZED/projekt2/classifiers/classifier2.pkl_359.npy',\n",
       " 'C:/development/repos/git/github/ZED/projekt2/classifiers/classifier2.pkl_360.npy',\n",
       " 'C:/development/repos/git/github/ZED/projekt2/classifiers/classifier2.pkl_361.npy',\n",
       " 'C:/development/repos/git/github/ZED/projekt2/classifiers/classifier2.pkl_362.npy',\n",
       " 'C:/development/repos/git/github/ZED/projekt2/classifiers/classifier2.pkl_363.npy',\n",
       " 'C:/development/repos/git/github/ZED/projekt2/classifiers/classifier2.pkl_364.npy',\n",
       " 'C:/development/repos/git/github/ZED/projekt2/classifiers/classifier2.pkl_365.npy',\n",
       " 'C:/development/repos/git/github/ZED/projekt2/classifiers/classifier2.pkl_366.npy',\n",
       " 'C:/development/repos/git/github/ZED/projekt2/classifiers/classifier2.pkl_367.npy',\n",
       " 'C:/development/repos/git/github/ZED/projekt2/classifiers/classifier2.pkl_368.npy',\n",
       " 'C:/development/repos/git/github/ZED/projekt2/classifiers/classifier2.pkl_369.npy',\n",
       " 'C:/development/repos/git/github/ZED/projekt2/classifiers/classifier2.pkl_370.npy',\n",
       " 'C:/development/repos/git/github/ZED/projekt2/classifiers/classifier2.pkl_371.npy',\n",
       " 'C:/development/repos/git/github/ZED/projekt2/classifiers/classifier2.pkl_372.npy',\n",
       " 'C:/development/repos/git/github/ZED/projekt2/classifiers/classifier2.pkl_373.npy',\n",
       " 'C:/development/repos/git/github/ZED/projekt2/classifiers/classifier2.pkl_374.npy',\n",
       " 'C:/development/repos/git/github/ZED/projekt2/classifiers/classifier2.pkl_375.npy',\n",
       " 'C:/development/repos/git/github/ZED/projekt2/classifiers/classifier2.pkl_376.npy',\n",
       " 'C:/development/repos/git/github/ZED/projekt2/classifiers/classifier2.pkl_377.npy',\n",
       " 'C:/development/repos/git/github/ZED/projekt2/classifiers/classifier2.pkl_378.npy',\n",
       " 'C:/development/repos/git/github/ZED/projekt2/classifiers/classifier2.pkl_379.npy',\n",
       " 'C:/development/repos/git/github/ZED/projekt2/classifiers/classifier2.pkl_380.npy',\n",
       " 'C:/development/repos/git/github/ZED/projekt2/classifiers/classifier2.pkl_381.npy',\n",
       " 'C:/development/repos/git/github/ZED/projekt2/classifiers/classifier2.pkl_382.npy',\n",
       " 'C:/development/repos/git/github/ZED/projekt2/classifiers/classifier2.pkl_383.npy',\n",
       " 'C:/development/repos/git/github/ZED/projekt2/classifiers/classifier2.pkl_384.npy',\n",
       " 'C:/development/repos/git/github/ZED/projekt2/classifiers/classifier2.pkl_385.npy',\n",
       " 'C:/development/repos/git/github/ZED/projekt2/classifiers/classifier2.pkl_386.npy',\n",
       " 'C:/development/repos/git/github/ZED/projekt2/classifiers/classifier2.pkl_387.npy',\n",
       " 'C:/development/repos/git/github/ZED/projekt2/classifiers/classifier2.pkl_388.npy',\n",
       " 'C:/development/repos/git/github/ZED/projekt2/classifiers/classifier2.pkl_389.npy',\n",
       " 'C:/development/repos/git/github/ZED/projekt2/classifiers/classifier2.pkl_390.npy',\n",
       " 'C:/development/repos/git/github/ZED/projekt2/classifiers/classifier2.pkl_391.npy',\n",
       " 'C:/development/repos/git/github/ZED/projekt2/classifiers/classifier2.pkl_392.npy',\n",
       " 'C:/development/repos/git/github/ZED/projekt2/classifiers/classifier2.pkl_393.npy',\n",
       " 'C:/development/repos/git/github/ZED/projekt2/classifiers/classifier2.pkl_394.npy',\n",
       " 'C:/development/repos/git/github/ZED/projekt2/classifiers/classifier2.pkl_395.npy',\n",
       " 'C:/development/repos/git/github/ZED/projekt2/classifiers/classifier2.pkl_396.npy',\n",
       " 'C:/development/repos/git/github/ZED/projekt2/classifiers/classifier2.pkl_397.npy',\n",
       " 'C:/development/repos/git/github/ZED/projekt2/classifiers/classifier2.pkl_398.npy',\n",
       " 'C:/development/repos/git/github/ZED/projekt2/classifiers/classifier2.pkl_399.npy',\n",
       " 'C:/development/repos/git/github/ZED/projekt2/classifiers/classifier2.pkl_400.npy',\n",
       " 'C:/development/repos/git/github/ZED/projekt2/classifiers/classifier2.pkl_401.npy']"
      ]
     },
     "execution_count": 180,
     "metadata": {},
     "output_type": "execute_result"
    }
   ],
   "source": [
    "joblib.dump(clf.best_estimator_, workspace_path + 'classifiers/classifier1.pkl')\n",
    "joblib.dump(clf2.best_estimator_, workspace_path + 'classifiers/classifier2.pkl')\n"
   ]
  }
 ],
 "metadata": {
  "kernelspec": {
   "display_name": "Python 2",
   "language": "python",
   "name": "python2"
  },
  "language_info": {
   "codemirror_mode": {
    "name": "ipython",
    "version": 2
   },
   "file_extension": ".py",
   "mimetype": "text/x-python",
   "name": "python",
   "nbconvert_exporter": "python",
   "pygments_lexer": "ipython2",
   "version": "2.7.11"
  }
 },
 "nbformat": 4,
 "nbformat_minor": 0
}
